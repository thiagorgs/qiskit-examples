{
 "cells": [
  {
   "cell_type": "code",
   "execution_count": 1,
   "metadata": {},
   "outputs": [
    {
     "name": "stdout",
     "output_type": "stream",
     "text": [
      "Eigenvalues:\n",
      "[-2.23606798 -1.          1.          2.23606798]\n",
      "\n",
      "Eigenvectors:\n",
      "[0.60150096+0.j 0.37174803+0.j 0.37174803+0.j 0.60150096+0.j]\n",
      "[ 7.07106781e-01+0.j -8.63550852e-16+0.j -7.06541606e-16+0.j\n",
      " -7.07106781e-01+0.j]\n",
      "[ 0.00000000e+00+0.j -7.07106781e-01+0.j  7.07106781e-01+0.j\n",
      "  2.22044605e-16+0.j]\n",
      "[ 0.37174803-0.j -0.60150096+0.j -0.60150096+0.j  0.37174803+0.j]\n"
     ]
    }
   ],
   "source": [
    "from qiskit.quantum_info import SparsePauliOp, Pauli\n",
    "import scipy.linalg\n",
    "\n",
    "# Define the Ising model parameters\n",
    "J = 1  # Coupling constant\n",
    "h = 1  # Transverse field\n",
    "\n",
    "# Define the Ising model Hamiltonian for 2 spins\n",
    "H = -J * SparsePauliOp(Pauli(\"ZZ\")) - h * (SparsePauliOp(Pauli(\"XI\")) + SparsePauliOp(Pauli(\"IX\")))\n",
    "\n",
    "# Convert to a dense matrix\n",
    "H_matrix = H.to_matrix()\n",
    "\n",
    "# Compute eigenvalues and eigenvectors using scipy's eigh function\n",
    "eigenvalues, eigenvectors = scipy.linalg.eigh(H_matrix)\n",
    "\n",
    "# Display the results\n",
    "print(\"Eigenvalues:\")\n",
    "print(eigenvalues)\n",
    "print(\"\\nEigenvectors:\")\n",
    "for eigenvector in eigenvectors.T:  # Transpose to iterate over eigenvectors\n",
    "    print(eigenvector)\n"
   ]
  }
 ],
 "metadata": {
  "kernelspec": {
   "display_name": "qiskit",
   "language": "python",
   "name": "python3"
  },
  "language_info": {
   "codemirror_mode": {
    "name": "ipython",
    "version": 3
   },
   "file_extension": ".py",
   "mimetype": "text/x-python",
   "name": "python",
   "nbconvert_exporter": "python",
   "pygments_lexer": "ipython3",
   "version": "3.12.0"
  }
 },
 "nbformat": 4,
 "nbformat_minor": 2
}
