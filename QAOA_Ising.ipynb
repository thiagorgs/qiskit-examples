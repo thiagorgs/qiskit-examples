{
 "cells": [
  {
   "cell_type": "code",
   "execution_count": 1,
   "metadata": {},
   "outputs": [],
   "source": [
    "\n",
    "import numpy as np\n",
    "import networkx as nx\n",
    "import matplotlib.pyplot as plt\n",
    "from qiskit import QuantumCircuit\n",
    "from qiskit import Aer, execute\n",
    "from qiskit.visualization import plot_histogram\n",
    "from scipy.optimize import minimize,brute\n",
    "from qutip import Qobj,tensor,sigmax,sigmaz,identity,expect\n",
    "import timeit"
   ]
  },
  {
   "cell_type": "code",
   "execution_count": 2,
   "metadata": {},
   "outputs": [],
   "source": [
    "def get_ranges(p,eps):\n",
    "    l = []\n",
    "    #the order of the list of parameters is [beta,gamma,alpha]\n",
    "    #gamma comes from ZZ and goes [0,2pi], the others [0,pi]\n",
    "    for i in range(3*p):\n",
    "        if i<p:\n",
    "            tup = (0.,np.pi,eps)\n",
    "        elif i>=2*p: \n",
    "            tup = (0.,np.pi,eps)\n",
    "        else:\n",
    "            tup = (0.,2*np.pi,eps)\n",
    "        l.append(tup)\n",
    "    return tuple(l)"
   ]
  },
  {
   "attachments": {},
   "cell_type": "markdown",
   "metadata": {},
   "source": [
    "COUNT BASED SIMULATOR"
   ]
  },
  {
   "attachments": {},
   "cell_type": "markdown",
   "metadata": {},
   "source": [
    "ZZ circuit"
   ]
  },
  {
   "cell_type": "code",
   "execution_count": 3,
   "metadata": {},
   "outputs": [],
   "source": [
    "def create_qaoa_circ_zz(graph, theta):\n",
    "    \"\"\"Creates a parametrized qaoa circuit to measure <ZiZj>\n",
    "       Measures in the computational basis\n",
    "    Args:\n",
    "        graph: networkx graph\n",
    "        theta: (list) [beta,gamma]\n",
    "    Returns:\n",
    "        (QuantumCircuit) qiskit circuit\n",
    "    \"\"\"\n",
    "    nqubits = len(graph.nodes())\n",
    "    n_layers = len(theta)//2  # number of alternating unitaries\n",
    "    beta = theta[:n_layers]\n",
    "    gamma = theta[n_layers:]\n",
    "\n",
    "    qc = QuantumCircuit(nqubits)\n",
    "\n",
    "    # initial_state\n",
    "    qc.h(range(nqubits))\n",
    "\n",
    "    for layer_index in range(n_layers):\n",
    "        qc.barrier()\n",
    "        qc.barrier()\n",
    "        # problem unitary\n",
    "        for pair in list(graph.edges()):\n",
    "            qc.rzz(2 * gamma[layer_index], pair[0], pair[1])\n",
    "        qc.barrier()\n",
    "        # mixer unitary\n",
    "        for qubit in range(nqubits):\n",
    "            qc.rx(2 * beta[layer_index], qubit)\n",
    "    qc.measure_all()\n",
    "    return qc\n",
    "\n",
    "\n",
    "def get_edge_zz_avg(counts,graph):\n",
    "    \"\"\"Gives a dictionary of averages of ZiZj\n",
    "    Args:\n",
    "        mem_list: list of measurements given by result.get_memory()\n",
    "        graph: networkx graph for the lattice connectivity\n",
    "    Returns:\n",
    "        edges_shot_avg: dict {'(i,j)':<ZiZj>}\n",
    "    \"\"\"\n",
    "    avg = 0\n",
    "    edges_avg_zz = {str(list(graph.edges)[i]): 0 for i in range(len(list(graph.edges)))}\n",
    "\n",
    "    for count,n in counts.items():\n",
    "        count = count[::-1] #invert the string to fix qubit ordering issues\n",
    "        for i,j in graph.edges:\n",
    "            avg = (1-2*int(count[i]))*(1-2*int(count[j]))*(n/shots) #converts binary to spin variables, takes product, divides by shots\n",
    "            edges_avg_zz[str((i,j))]+= avg\n",
    "    \n",
    "    return edges_avg_zz"
   ]
  },
  {
   "attachments": {},
   "cell_type": "markdown",
   "metadata": {},
   "source": [
    "X circuit"
   ]
  },
  {
   "cell_type": "code",
   "execution_count": 4,
   "metadata": {},
   "outputs": [],
   "source": [
    "def create_qaoa_circ_x(graph, theta):\n",
    "    \"\"\"Creates a parametrized qaoa circuit to measure <xi>\n",
    "       Measures in the x basis, so we add a Hadamard at the end of the circuit\n",
    "    Args:\n",
    "        graph: networkx graph\n",
    "        theta: (list) [beta,gamma]\n",
    "    Returns:\n",
    "        (QuantumCircuit) qiskit circuit\n",
    "    \"\"\"\n",
    "    nqubits = len(graph.nodes())\n",
    "    n_layers = len(theta)//2  # number of alternating unitaries\n",
    "    beta = theta[:n_layers]\n",
    "    gamma = theta[n_layers:]\n",
    "\n",
    "    qc = QuantumCircuit(nqubits)\n",
    "\n",
    "    # initial_state\n",
    "    qc.h(range(nqubits))\n",
    "\n",
    "    for layer_index in range(n_layers):\n",
    "        qc.barrier()\n",
    "        qc.barrier()\n",
    "        # problem unitary\n",
    "        for pair in list(graph.edges()):\n",
    "            qc.rzz(2 * gamma[layer_index], pair[0], pair[1])\n",
    "        qc.barrier()\n",
    "        # mixer unitary\n",
    "        for qubit in range(nqubits):\n",
    "            qc.rx(2 * beta[layer_index], qubit)\n",
    "    qc.h(range(nqubits)) #Rotation to x-basis\n",
    "    qc.measure_all()\n",
    "    return qc\n",
    "\n",
    "def get_x_avg(counts,graph):\n",
    "    \"\"\"Gives a list of averages of Xi for each spin\n",
    "    Args:\n",
    "        counts: dict of counts of X given by result_x.get_counts()\n",
    "        graph: networkx graph for the lattice connectivity\n",
    "    Returns:\n",
    "        x_avg: list of averages of X for each spin [Xi]\n",
    "    \"\"\"\n",
    "    avg = 0\n",
    "    x_avg = [0 for i in graph.nodes]\n",
    "    \n",
    "    for count,n in counts.items():\n",
    "        count = count[::-1] #invert the string to fix qubit ordering issues\n",
    "        for i in graph.nodes:\n",
    "            avg = (1-2*int(count[i]))*(n/shots) #converts binary to spin variables, takes product, divides by shots\n",
    "            x_avg[i]+= avg\n",
    "    \n",
    "    return x_avg"
   ]
  },
  {
   "attachments": {},
   "cell_type": "markdown",
   "metadata": {},
   "source": [
    "Cost function evaluation and passing to optimizer"
   ]
  },
  {
   "cell_type": "code",
   "execution_count": 5,
   "metadata": {},
   "outputs": [],
   "source": [
    "def compute_TFIM_energy(graph,counts_zz,counts_x,B,J):\n",
    "    \"\"\"Computes the energy expectation of the TFIM from the counts in the z- and x-basis\n",
    "    Args:\n",
    "        graph: networkx graph\n",
    "        mem_list_zz: memory list from z measurements\n",
    "        mem_list_x: memory list from x measurements\n",
    "        B: Intensity of transverse field\n",
    "        J: Coupling counstant\n",
    "    Returns:\n",
    "        E: Value of the energy expectation value\n",
    "    \"\"\"\n",
    "    sum_zz = sum(get_edge_zz_avg(counts_zz,graph).values())\n",
    "    sum_x = sum(get_x_avg(counts_x,graph))\n",
    "\n",
    "    E = -J*sum_zz-B*sum_x #The expression of the TFIM with constant coupling\n",
    "    return E\n",
    "\n",
    "def get_expectation(graph, shots=512,B=1.,J=1.):\n",
    "    \"\"\"Gives the function to be optimized, includes the \n",
    "    quantum routine to run the algortihm\n",
    "    Args:\n",
    "        graph: networkx graph\n",
    "    Returns: function\n",
    "    \"\"\"\n",
    "    backend = Aer.get_backend('aer_simulator')\n",
    "    backend.shots = shots\n",
    "\n",
    "    def execute_circ(theta):\n",
    "        qc_zz = create_qaoa_circ_zz(graph, theta)\n",
    "        qc_x = create_qaoa_circ_x(graph, theta)\n",
    "        counts_zz = execute(qc_zz,backend,shots=shots,seed_simulator=10).result().get_counts()\n",
    "        counts_x = execute(qc_x,backend,shots=shots,seed_simulator=10).result().get_counts()\n",
    "        \n",
    "        return compute_TFIM_energy(graph,counts_zz,counts_x,B,J)\n",
    "\n",
    "    return execute_circ"
   ]
  },
  {
   "attachments": {},
   "cell_type": "markdown",
   "metadata": {},
   "source": [
    "STATEVECTOR SIMULATOR"
   ]
  },
  {
   "cell_type": "code",
   "execution_count": 6,
   "metadata": {},
   "outputs": [],
   "source": [
    "def create_qaoa_circ_sv(graph, theta):\n",
    "    \"\"\"Creates a parametrized qaoa circuit to measure <ZiZj>\n",
    "       Does not measure to get the statevector\n",
    "    Args:\n",
    "        graph: networkx graph\n",
    "        theta: (list) unitary parameters\n",
    "    Returns:\n",
    "        (QuantumCircuit) qiskit circuit\n",
    "    \"\"\"\n",
    "    nqubits = len(graph.nodes())\n",
    "    n_layers = len(theta)//2  # number of alternating unitaries\n",
    "    beta = theta[:n_layers]\n",
    "    gamma = theta[n_layers:]\n",
    "\n",
    "    qc = QuantumCircuit(nqubits)\n",
    "\n",
    "    # initial_state\n",
    "    qc.h(range(nqubits))\n",
    "\n",
    "    for layer_index in range(n_layers):\n",
    "        qc.barrier()\n",
    "        qc.barrier()\n",
    "        # problem unitary\n",
    "        for pair in list(graph.edges()):\n",
    "            qc.rzz(2 * gamma[layer_index], pair[0], pair[1])\n",
    "        qc.barrier()\n",
    "        # mixer unitary\n",
    "        for qubit in range(nqubits):\n",
    "            qc.rx(2 * beta[layer_index], qubit)\n",
    "    #no measurement at the end\n",
    "    return qc\n",
    "\n",
    "def compute_TFIM_sv_energy(sv,B,J):\n",
    "    \"\"\"Uses qutip to compute the energy expectation\n",
    "       of the output state in the TFIM\n",
    "    Args:\n",
    "        graph: networkx graph\n",
    "        sv: qiskit statevector at the end of circuit\n",
    "        B: Intensity of transverse field\n",
    "        J: Coupling counstant\n",
    "    Returns:\n",
    "        E: energy expectation\n",
    "    \"\"\"\n",
    "    n_qubits = int(np.log2(len(sv.data)))\n",
    "    H = Qobj(get_ising_H(n_qubits=n_qubits,B=B,J=J).full())\n",
    "\n",
    "    output_sv = get_qutip_sv(sv)\n",
    "    E = expect(H,output_sv)\n",
    "    \n",
    "    return E\n",
    "\n",
    "def get_expectation_sv(graph,B=1.,J=1.):\n",
    "    \"\"\"Gives Function to be optimized in the\n",
    "    state vector simulator\n",
    "    Args:\n",
    "        graph: networkx graph\n",
    "    Returns: function\n",
    "    \"\"\"\n",
    "    backend = Aer.get_backend('statevector_simulator')\n",
    "\n",
    "    def execute_circ(theta):\n",
    "        qc = create_qaoa_circ_sv(graph, theta)\n",
    "        sv = execute(qc,backend,seed_simulator=10).result().get_statevector()\n",
    "        return compute_TFIM_sv_energy(sv,B=B,J=J)\n",
    "\n",
    "    return execute_circ\n",
    "\n",
    "\n",
    "def compute_TFIM_sv_overlap(sv,B,J):\n",
    "    \"\"\"Uses qutip to compute the FIDELITY\n",
    "       between the output state and the exact\n",
    "       groundstate \n",
    "    Args:\n",
    "        graph: networkx graph\n",
    "        sv: qiskit statevector at the end of circuit\n",
    "        B: Intensity of transverse field\n",
    "        J: Coupling counstant\n",
    "    Returns:\n",
    "        p: Value of the overlap\n",
    "    \"\"\"\n",
    "    n_qubits = int(np.log2(len(sv.data)))\n",
    "    \n",
    "    H = Qobj(get_ising_H(n_qubits=n_qubits,B=B,J=J).full())\n",
    "    exact_sv = Qobj(H.groundstate()[1].full())\n",
    "\n",
    "    output_sv = get_qutip_sv(sv)\n",
    "\n",
    "\n",
    "    overlap = output_sv.overlap(exact_sv)\n",
    "    prob = overlap.real**2+overlap.imag**2\n",
    "    return prob"
   ]
  },
  {
   "attachments": {},
   "cell_type": "markdown",
   "metadata": {},
   "source": [
    "QUTIP FUNCTIONS"
   ]
  },
  {
   "cell_type": "code",
   "execution_count": 7,
   "metadata": {},
   "outputs": [],
   "source": [
    "def get_ising_H(n_qubits,B,J):\n",
    "    \"\"\"Gives the TFIM qutip quantum object\n",
    "    \"\"\"\n",
    "    x_i_list = []\n",
    "    for i in range(n_qubits):\n",
    "        x_i = []\n",
    "        for j in range(n_qubits):\n",
    "            if i==j:\n",
    "                x_i.append(sigmax())\n",
    "            else:\n",
    "                x_i.append(identity(2))\n",
    "\n",
    "        x_i_list.append(tensor(x_i))\n",
    "    sum_xi = Qobj()\n",
    "    for i in range(n_qubits):\n",
    "        sum_xi += x_i_list[i]\n",
    "    \n",
    "    z_i_list = []\n",
    "    for i in range(n_qubits):\n",
    "        z_i = [identity(2) for i in range(n_qubits)]\n",
    "        for j in range(n_qubits):\n",
    "            if j == i:\n",
    "                z_i[j] = sigmaz()\n",
    "                if j < n_qubits-1:\n",
    "                    z_i[j+1] = sigmaz()\n",
    "                else:\n",
    "                    z_i[0]=sigmaz()\n",
    "        z_i_list.append(tensor(z_i))\n",
    "    sum_zi = Qobj()\n",
    "    for i in range(n_qubits):\n",
    "        sum_zi += z_i_list[i]   \n",
    "\n",
    "    Hb = -B*sum_xi\n",
    "    Hc = -J*sum_zi\n",
    "    H = Hb + Hc\n",
    "    return H\n",
    "\n",
    "def get_qutip_sv(sv,eps=1e-15):\n",
    "    \"\"\"Translates the statevector from qiskit to qutip\n",
    "    Args:\n",
    "        sv: qiskit statevector object\n",
    "        eps: precision to filter the amplitudes\n",
    "    Returns:\n",
    "        svqtp: associated qutip object with filtered amplitudes\n",
    "    \"\"\"\n",
    "    eps = 1e-15\n",
    "    l = list(sv.data)[:]\n",
    "    for i,amp in enumerate(list(sv.data)):\n",
    "        if abs(amp.real) < eps:\n",
    "            l[i] = 0 + amp.imag*1j\n",
    "        if abs(amp.imag) < eps:\n",
    "            l[i] = amp.real + 0j\n",
    "    \n",
    "    return Qobj(np.array(l))"
   ]
  },
  {
   "attachments": {},
   "cell_type": "markdown",
   "metadata": {},
   "source": [
    "We entry the shape of the lattice as a networkx graph"
   ]
  },
  {
   "cell_type": "code",
   "execution_count": 8,
   "metadata": {},
   "outputs": [],
   "source": [
    "# Sample initial graphs\n",
    "\n",
    "g1 = nx.Graph()\n",
    "g1.add_edges_from([[0,3],[0,4],[1,3],[1,4],[2,3],[2,4]])\n",
    "\n",
    "g2 = nx.Graph()\n",
    "g2.add_nodes_from([0, 1, 2, 3])\n",
    "g2.add_edges_from([(0, 1), (1, 2), (2, 3), (3, 0)])\n",
    "\n",
    "graph_bt_3= nx.Graph()\n"
   ]
  },
  {
   "cell_type": "code",
   "execution_count": 9,
   "metadata": {},
   "outputs": [],
   "source": [
    "graph_bt_3 = nx.Graph()\n",
    "graph_bt_3.add_nodes_from([0, 1, 2])\n",
    "graph_bt_3.add_edges_from([(0, 1), (0, 2)])\n",
    "\n",
    "graph_bt_7 = nx.Graph()\n",
    "graph_bt_7.add_nodes_from([0, 1, 2, 3, 4, 5, 6])\n",
    "graph_bt_7.add_edges_from([(0, 1), (0, 2),(1,3),(1,4),(2,5),(2,6)])\n",
    "\n",
    "graph_bt_15 = nx.Graph()\n",
    "graph_bt_15.add_nodes_from(range(2**3-1))\n",
    "graph_bt_15.add_edges_from([(0, 1), (0, 2),(1,3),(1,4),(2,5),(2,6),(3,7),(3,8),(4,9),(4,10),(5,11),(5,12),(6,13),(6,14)])\n",
    "graph_bt_list = [graph_bt_3,graph_bt_7,graph_bt_15]"
   ]
  },
  {
   "attachments": {},
   "cell_type": "markdown",
   "metadata": {},
   "source": [
    "GLOBAL PARAMETERS"
   ]
  },
  {
   "cell_type": "code",
   "execution_count": 10,
   "metadata": {},
   "outputs": [],
   "source": [
    "\n",
    "n_qubits = 3\n",
    "B = 0.5\n",
    "J = 1.\n",
    "shots = 2**14"
   ]
  },
  {
   "cell_type": "code",
   "execution_count": 11,
   "metadata": {},
   "outputs": [],
   "source": [
    "graph_chain = nx.Graph()\n",
    "graph_chain.add_nodes_from(range(n_qubits))\n",
    "\n",
    "edge_list = []\n",
    "for i in range(n_qubits):\n",
    "    if i < n_qubits-1:\n",
    "        edge_list.append((i,i+1))\n",
    "    else:\n",
    "        edge_list.append((i,0))\n",
    "\n",
    "# Generate graph from the list of edges\n",
    "graph_chain.add_edges_from(edge_list)"
   ]
  },
  {
   "cell_type": "code",
   "execution_count": 12,
   "metadata": {},
   "outputs": [
    {
     "data": {
      "image/png": "[encoded data removed]",
      "text/plain": [
       "<Figure size 640x480 with 1 Axes>"
      ]
     },
     "metadata": {},
     "output_type": "display_data"
    }
   ],
   "source": [
    "graph = graph_bt_3\n",
    "nx.draw(graph)"
   ]
  },
  {
   "cell_type": "code",
   "execution_count": 13,
   "metadata": {},
   "outputs": [
    {
     "data": {
      "image/png": "[encoded data removed]",
      "text/plain": [
       "<Figure size 1332.89x367.889 with 1 Axes>"
      ]
     },
     "execution_count": 13,
     "metadata": {},
     "output_type": "execute_result"
    }
   ],
   "source": [
    "qc = create_qaoa_circ_x(graph,[1,3])\n",
    "qc.draw('mpl')"
   ]
  },
  {
   "cell_type": "code",
   "execution_count": 14,
   "metadata": {},
   "outputs": [
    {
     "data": {
      "image/png": "[encoded data removed]",
      "text/plain": [
       "<Figure size 1500.11x367.889 with 1 Axes>"
      ]
     },
     "execution_count": 14,
     "metadata": {},
     "output_type": "execute_result"
    }
   ],
   "source": [
    "qc.decompose(reps=1).draw('mpl')"
   ]
  },
  {
   "cell_type": "code",
   "execution_count": null,
   "metadata": {},
   "outputs": [],
   "source": []
  },
  {
   "attachments": {},
   "cell_type": "markdown",
   "metadata": {},
   "source": [
    "We display the form of the circuit for one layer (p=1)"
   ]
  },
  {
   "cell_type": "code",
   "execution_count": 15,
   "metadata": {},
   "outputs": [
    {
     "data": {
      "image/png": "[encoded data removed]",
      "text/plain": [
       "<Figure size 1249.28x367.889 with 1 Axes>"
      ]
     },
     "metadata": {},
     "output_type": "display_data"
    }
   ],
   "source": [
    "qc = create_qaoa_circ_zz(graph,[np.pi/2,np.pi])\n",
    "display(qc.draw('mpl')) "
   ]
  },
  {
   "attachments": {},
   "cell_type": "markdown",
   "metadata": {},
   "source": [
    "We also show the associated circuit to measure in the X basis, which has a layer of Hadamard gates at the end to change basis "
   ]
  },
  {
   "cell_type": "code",
   "execution_count": 16,
   "metadata": {},
   "outputs": [
    {
     "data": {
      "image/png": "[encoded data removed]",
      "text/plain": [
       "<Figure size 1332.89x367.889 with 1 Axes>"
      ]
     },
     "metadata": {},
     "output_type": "display_data"
    }
   ],
   "source": [
    "qc_x = create_qaoa_circ_x(graph,[1,1])\n",
    "display(qc_x.draw('mpl')) "
   ]
  },
  {
   "attachments": {},
   "cell_type": "markdown",
   "metadata": {},
   "source": [
    "Now we perform the feedback loop to obtain the optimal parameters"
   ]
  },
  {
   "attachments": {},
   "cell_type": "markdown",
   "metadata": {},
   "source": [
    "The exact groundstate energy for this spin configuration is"
   ]
  },
  {
   "cell_type": "code",
   "execution_count": 17,
   "metadata": {},
   "outputs": [],
   "source": [
    "# exact_gs = get_ising_H(n_qubits=n_qubits,B=B,J=J).groundstate()[0]\n",
    "# exact_gs"
   ]
  },
  {
   "cell_type": "code",
   "execution_count": 18,
   "metadata": {},
   "outputs": [
    {
     "data": {
      "text/plain": [
       "-2.403211925911554"
      ]
     },
     "execution_count": 18,
     "metadata": {},
     "output_type": "execute_result"
    }
   ],
   "source": [
    "hz = -1*(tensor(sigmaz(),sigmaz(),identity(2))+\n",
    "         tensor(sigmaz(),identity(2),sigmaz())\n",
    "         )\n",
    "hx = -0.5*(tensor(sigmax(),identity(2),identity(2))+\n",
    "         tensor(identity(2),sigmax(),identity(2))+\n",
    "         tensor(identity(2),identity(2),sigmax()))\n",
    "\n",
    "exact_gs = (hz+hx).groundstate()[0]\n",
    "exact_gs"
   ]
  },
  {
   "attachments": {},
   "cell_type": "markdown",
   "metadata": {},
   "source": [
    "ONE LAYER"
   ]
  },
  {
   "cell_type": "code",
   "execution_count": 19,
   "metadata": {},
   "outputs": [
    {
     "name": "stdout",
     "output_type": "stream",
     "text": [
      "\n",
      "   Normal return from subroutine COBYLA\n",
      "\n"
     ]
    },
    {
     "data": {
      "text/plain": [
       "     fun: -2.1947021484375\n",
       "   maxcv: 0.0\n",
       " message: 'Optimization terminated successfully.'\n",
       "    nfev: 35\n",
       "  status: 1\n",
       " success: True\n",
       "       x: array([1.95760899, 0.34668351])"
      ]
     },
     "execution_count": 19,
     "metadata": {},
     "output_type": "execute_result"
    },
    {
     "name": "stdout",
     "output_type": "stream",
     "text": [
      "   NFVALS =   35   F =-2.194702E+00    MAXCV = 0.000000E+00\n",
      "   X = 1.957609E+00   3.466835E-01\n"
     ]
    }
   ],
   "source": [
    "p = 1 # Number of layers\n",
    "\n",
    "iter = 2500 #Number of iterations of the optimizer (calls to the Quantum Computer)\n",
    "optimizer = 'COBYLA'\n",
    "\n",
    "one_list = [1 for i in range(0,2*p)] \n",
    "\n",
    "parameter_list = one_list #We start setting all parameters to unity\n",
    "\n",
    "expectation_1 = get_expectation(graph,shots=shots,B=B,J=J) #Cost function C(teta) of the entire circuit (training)\n",
    "\n",
    "res_1 = minimize(expectation_1,\n",
    "               parameter_list,\n",
    "               method=optimizer,options={'maxiter':iter, 'disp': True})\n",
    "res_1"
   ]
  },
  {
   "attachments": {},
   "cell_type": "markdown",
   "metadata": {},
   "source": [
    "BRUTE FORCE ONE LAYER"
   ]
  },
  {
   "cell_type": "code",
   "execution_count": 20,
   "metadata": {},
   "outputs": [
    {
     "name": "stdout",
     "output_type": "stream",
     "text": [
      "[0.39893727 0.31748289]\n",
      "0.9139481662564516\n"
     ]
    }
   ],
   "source": [
    "res_1_b = brute(expectation_1,((0,np.pi,np.pi/6),(0,2*np.pi,np.pi/6)))\n",
    "print(res_1_b)\n",
    "\n",
    "aprox_gs = expectation_1(res_1_b)\n",
    "aprox_ratio = aprox_gs/exact_gs\n",
    "print(aprox_ratio)\n",
    "# np.savetxt('1-layer-4qubits-parameters.csv',res_1_b,delimiter=\",\")"
   ]
  },
  {
   "cell_type": "code",
   "execution_count": 21,
   "metadata": {},
   "outputs": [
    {
     "data": {
      "text/plain": [
       "0.9139481662564516"
      ]
     },
     "execution_count": 21,
     "metadata": {},
     "output_type": "execute_result"
    }
   ],
   "source": [
    "expectation_1(res_1_b)/exact_gs"
   ]
  },
  {
   "attachments": {},
   "cell_type": "markdown",
   "metadata": {},
   "source": [
    "APROXIMATION RATIO (p = 1)"
   ]
  },
  {
   "cell_type": "code",
   "execution_count": 22,
   "metadata": {},
   "outputs": [
    {
     "data": {
      "text/plain": [
       "0.9132370411340378"
      ]
     },
     "execution_count": 22,
     "metadata": {},
     "output_type": "execute_result"
    }
   ],
   "source": [
    "aprox_gs = res_1.fun\n",
    "\n",
    "aprox_ratio = aprox_gs/exact_gs\n",
    "aprox_ratio"
   ]
  },
  {
   "attachments": {},
   "cell_type": "markdown",
   "metadata": {},
   "source": [
    "We already get a good precision at one layer"
   ]
  },
  {
   "attachments": {},
   "cell_type": "markdown",
   "metadata": {},
   "source": [
    "TWO LAYERS (p = 2)"
   ]
  },
  {
   "cell_type": "code",
   "execution_count": 23,
   "metadata": {},
   "outputs": [
    {
     "data": {
      "text/plain": [
       "     fun: -2.3431396484375\n",
       "   maxcv: 0.0\n",
       " message: 'Optimization terminated successfully.'\n",
       "    nfev: 57\n",
       "  status: 1\n",
       " success: True\n",
       "       x: array([1.90761294, 1.07877192, 2.0256771 , 0.84816215])"
      ]
     },
     "execution_count": 23,
     "metadata": {},
     "output_type": "execute_result"
    },
    {
     "name": "stdout",
     "output_type": "stream",
     "text": [
      "\n",
      "   Normal return from subroutine COBYLA\n",
      "\n",
      "   NFVALS =   57   F =-2.343140E+00    MAXCV = 0.000000E+00\n",
      "   X = 1.907613E+00   1.078772E+00   2.025677E+00   8.481621E-01\n"
     ]
    }
   ],
   "source": [
    "p = 2 # Number of layers\n",
    "\n",
    "iter = 86 #Number of iterations of the optimizer (calls to the Quantum Computer)\n",
    "optimizer = 'COBYLA'\n",
    "\n",
    "one_list = [1 for i in range(0,2*p)] \n",
    "\n",
    "parameter_list = one_list #We start setting all parameters to unity\n",
    "\n",
    "expectation = get_expectation(graph,shots=shots,B=B,J=J) #Cost function C(teta) of the entire circuit (training)\n",
    "\n",
    "res_2 = minimize(expectation,\n",
    "               parameter_list,\n",
    "               method=optimizer,options={'maxiter':iter, 'disp': True})\n",
    "res_2"
   ]
  },
  {
   "attachments": {},
   "cell_type": "markdown",
   "metadata": {},
   "source": [
    "APROX RATIO (p = 2)"
   ]
  },
  {
   "cell_type": "code",
   "execution_count": 24,
   "metadata": {},
   "outputs": [
    {
     "data": {
      "text/plain": [
       "0.9750033374808308"
      ]
     },
     "execution_count": 24,
     "metadata": {},
     "output_type": "execute_result"
    }
   ],
   "source": [
    "aprox_gs = res_2.fun\n",
    "\n",
    "aprox_ratio = aprox_gs/exact_gs\n",
    "aprox_ratio"
   ]
  },
  {
   "attachments": {},
   "cell_type": "markdown",
   "metadata": {},
   "source": [
    "BRUTE FORCE 2 LAYERS "
   ]
  },
  {
   "attachments": {},
   "cell_type": "markdown",
   "metadata": {},
   "source": [
    "THREE LAYERS (p = 3)"
   ]
  },
  {
   "cell_type": "code",
   "execution_count": 25,
   "metadata": {},
   "outputs": [
    {
     "name": "stdout",
     "output_type": "stream",
     "text": [
      "\n",
      "   Normal return from subroutine COBYLA\n",
      "\n"
     ]
    },
    {
     "data": {
      "text/plain": [
       "     fun: -2.4027099609375\n",
       "   maxcv: 0.0\n",
       " message: 'Optimization terminated successfully.'\n",
       "    nfev: 77\n",
       "  status: 1\n",
       " success: True\n",
       "       x: array([0.73680106, 1.99340296, 1.92051285, 1.03231738, 0.70311513,\n",
       "       1.51306043])"
      ]
     },
     "execution_count": 25,
     "metadata": {},
     "output_type": "execute_result"
    },
    {
     "name": "stdout",
     "output_type": "stream",
     "text": [
      "   NFVALS =   77   F =-2.402710E+00    MAXCV = 0.000000E+00\n",
      "   X = 7.368011E-01   1.993403E+00   1.920513E+00   1.032317E+00   7.031151E-01\n",
      "       1.513060E+00\n"
     ]
    }
   ],
   "source": [
    "p = 3 # Number of layers\n",
    "\n",
    "iter = 150 #Number of iterations of the optimizer (calls to the Quantum Computer)\n",
    "optimizer = 'COBYLA'\n",
    "\n",
    "one_list = [1 for i in range(0,2*p)] \n",
    "\n",
    "parameter_list = one_list #We start setting all parameters to unity\n",
    "\n",
    "expectation = get_expectation(graph,shots=shots,B=B,J=J) #Cost function C(teta) of the entire circuit (training)\n",
    "\n",
    "res_3 = minimize(expectation,\n",
    "               parameter_list,\n",
    "               method=optimizer,options={'maxiter':iter, 'disp': True})\n",
    "res_3"
   ]
  },
  {
   "attachments": {},
   "cell_type": "markdown",
   "metadata": {},
   "source": [
    "APROX RATIO"
   ]
  },
  {
   "cell_type": "code",
   "execution_count": 26,
   "metadata": {},
   "outputs": [
    {
     "data": {
      "text/plain": [
       "0.9997911274621095"
      ]
     },
     "execution_count": 26,
     "metadata": {},
     "output_type": "execute_result"
    }
   ],
   "source": [
    "aprox_gs = res_3.fun\n",
    "\n",
    "aprox_ratio = aprox_gs/exact_gs\n",
    "aprox_ratio"
   ]
  },
  {
   "attachments": {},
   "cell_type": "markdown",
   "metadata": {},
   "source": [
    "We can also try the Statevector approach to get a better precision"
   ]
  },
  {
   "attachments": {},
   "cell_type": "markdown",
   "metadata": {},
   "source": [
    "ONE LAYER STATEVECTOR"
   ]
  },
  {
   "cell_type": "code",
   "execution_count": 27,
   "metadata": {},
   "outputs": [
    {
     "name": "stdout",
     "output_type": "stream",
     "text": [
      "\n",
      "   Normal return from subroutine COBYLA\n",
      "\n"
     ]
    },
    {
     "data": {
      "text/plain": [
       "     fun: -2.440982734559044\n",
       "   maxcv: 0.0\n",
       " message: 'Optimization terminated successfully.'\n",
       "    nfev: 38\n",
       "  status: 1\n",
       " success: True\n",
       "       x: array([3.58718614, 0.40595638])"
      ]
     },
     "execution_count": 27,
     "metadata": {},
     "output_type": "execute_result"
    },
    {
     "name": "stdout",
     "output_type": "stream",
     "text": [
      "   NFVALS =   38   F =-2.440983E+00    MAXCV = 0.000000E+00\n",
      "   X = 3.587186E+00   4.059564E-01\n"
     ]
    }
   ],
   "source": [
    "p = 1 # Number of layers\n",
    "\n",
    "iter = 2500 #Number of iterations of the optimizer (calls to the Quantum Computer)\n",
    "optimizer = 'COBYLA'\n",
    "\n",
    "one_list = [1 for i in range(0,2*p)]\n",
    "parameter_list = one_list #We start setting all parameters to unity\n",
    "\n",
    "expectation = get_expectation_sv(graph,B=B,J=J) #Cost function C(teta) of the entire circuit (training)\n",
    "res_sv_1 = minimize(expectation,\n",
    "               parameter_list,\n",
    "               method='COBYLA',options={'maxiter':iter, 'disp': True})\n",
    "res_sv_1"
   ]
  },
  {
   "cell_type": "code",
   "execution_count": 28,
   "metadata": {},
   "outputs": [
    {
     "data": {
      "text/plain": [
       "-2.440982734559044"
      ]
     },
     "execution_count": 28,
     "metadata": {},
     "output_type": "execute_result"
    }
   ],
   "source": [
    "res_sv_1.fun"
   ]
  },
  {
   "attachments": {},
   "cell_type": "markdown",
   "metadata": {},
   "source": [
    "APROX RATIO (p=1)"
   ]
  },
  {
   "cell_type": "code",
   "execution_count": 29,
   "metadata": {},
   "outputs": [
    {
     "data": {
      "text/plain": [
       "1.0157168031001524"
      ]
     },
     "execution_count": 29,
     "metadata": {},
     "output_type": "execute_result"
    }
   ],
   "source": [
    "aprox_gs_sv = res_sv_1.fun\n",
    "\n",
    "aprox_ratio_sv = aprox_gs_sv/exact_gs\n",
    "aprox_ratio_sv "
   ]
  },
  {
   "attachments": {},
   "cell_type": "markdown",
   "metadata": {},
   "source": [
    "TWO LAYERS STATEVECTOR"
   ]
  },
  {
   "cell_type": "code",
   "execution_count": 30,
   "metadata": {},
   "outputs": [
    {
     "name": "stdout",
     "output_type": "stream",
     "text": [
      "\n",
      "   Normal return from subroutine COBYLA\n",
      "\n",
      "   NFVALS =  259   F =-2.823844E+00    MAXCV = 0.000000E+00\n",
      "   X = 1.862965E+00   1.032591E+00   2.176893E+00   6.415381E-01\n"
     ]
    },
    {
     "data": {
      "text/plain": [
       "     fun: -2.823843771818605\n",
       "   maxcv: 0.0\n",
       " message: 'Optimization terminated successfully.'\n",
       "    nfev: 259\n",
       "  status: 1\n",
       " success: True\n",
       "       x: array([1.86296505, 1.03259106, 2.17689294, 0.64153812])"
      ]
     },
     "execution_count": 30,
     "metadata": {},
     "output_type": "execute_result"
    }
   ],
   "source": [
    "p = 2 # Number of layers\n",
    "\n",
    "iter = 2500 #Number of iterations of the optimizer (calls to the Quantum Computer)\n",
    "optimizer = 'COBYLA'\n",
    "\n",
    "one_list = [1 for i in range(0,2*p)]\n",
    "parameter_list = one_list #We start setting all parameters to unity\n",
    "\n",
    "expectation = get_expectation_sv(graph,B=B,J=J) #Cost function C(teta) of the entire circuit (training)\n",
    "res_sv_2 = minimize(expectation,\n",
    "               parameter_list,\n",
    "               method='COBYLA',options={'maxiter':iter, 'disp': True})\n",
    "res_sv_2"
   ]
  },
  {
   "attachments": {},
   "cell_type": "markdown",
   "metadata": {},
   "source": [
    "APROX RATIO (p = 2)"
   ]
  },
  {
   "cell_type": "code",
   "execution_count": 31,
   "metadata": {},
   "outputs": [
    {
     "data": {
      "text/plain": [
       "1.1750290273495139"
      ]
     },
     "execution_count": 31,
     "metadata": {},
     "output_type": "execute_result"
    }
   ],
   "source": [
    "aprox_gs_sv = res_sv_2.fun\n",
    "\n",
    "aprox_ratio_sv = aprox_gs_sv/exact_gs\n",
    "aprox_ratio_sv "
   ]
  },
  {
   "attachments": {},
   "cell_type": "markdown",
   "metadata": {},
   "source": [
    "Now we run the circuit with the optimal parameters to measure the fidelity"
   ]
  },
  {
   "cell_type": "code",
   "execution_count": 32,
   "metadata": {},
   "outputs": [
    {
     "data": {
      "image/png": "[encoded data removed]",
      "text/plain": [
       "<Figure size 1541.66x284.278 with 1 Axes>"
      ]
     },
     "metadata": {},
     "output_type": "display_data"
    }
   ],
   "source": [
    "backend = Aer.get_backend('statevector_simulator')\n",
    "#optimal_parameters = [0.6845, 0.6559,0.6048,0.3180,0.2496,0.4808,0.5260,0.4503]\n",
    "optimal_parameters =res_sv_2.x\n",
    "optimal_circuit = create_qaoa_circ_sv(graph,optimal_parameters)\n",
    "display(optimal_circuit.draw('mpl'))\n",
    "\n",
    "\n",
    "optimal_sv = execute(optimal_circuit,backend).result().get_statevector()\n"
   ]
  },
  {
   "attachments": {},
   "cell_type": "markdown",
   "metadata": {},
   "source": [
    "The fidelity with the exact groundstate is "
   ]
  },
  {
   "cell_type": "code",
   "execution_count": 33,
   "metadata": {},
   "outputs": [
    {
     "data": {
      "text/plain": [
       "0.905643408215995"
      ]
     },
     "execution_count": 33,
     "metadata": {},
     "output_type": "execute_result"
    }
   ],
   "source": [
    "fidelity = compute_TFIM_sv_overlap(optimal_sv,B=B,J=J)\n",
    "fidelity\n"
   ]
  },
  {
   "attachments": {},
   "cell_type": "markdown",
   "metadata": {},
   "source": [
    "We can use the optimal circuit to compute the energy from the counts. Useful for quantum hardware"
   ]
  },
  {
   "cell_type": "code",
   "execution_count": 34,
   "metadata": {},
   "outputs": [
    {
     "name": "stdout",
     "output_type": "stream",
     "text": [
      "-2.2965087890625\n"
     ]
    }
   ],
   "source": [
    "backend = Aer.get_backend('aer_simulator')\n",
    "\n",
    "optimal_circuit_zz = create_qaoa_circ_zz(graph,optimal_parameters)\n",
    "optimal_counts_zz = execute(optimal_circuit_zz,backend,seed_simulator=10,shots=shots).result().get_counts()\n",
    "optimal_circuit_x = create_qaoa_circ_x(graph,optimal_parameters)\n",
    "optimal_counts_x = execute(optimal_circuit_x,backend,memory=True,seed_simulator=10,shots=shots).result().get_counts()\n",
    "\n",
    "print(compute_TFIM_energy(graph,optimal_counts_zz,optimal_counts_x,B=B,J=J))\n"
   ]
  },
  {
   "cell_type": "code",
   "execution_count": null,
   "metadata": {},
   "outputs": [],
   "source": []
  }
 ],
 "metadata": {
  "kernelspec": {
   "display_name": "quanta",
   "language": "python",
   "name": "python3"
  },
  "language_info": {
   "codemirror_mode": {
    "name": "ipython",
    "version": 3
   },
   "file_extension": ".py",
   "mimetype": "text/x-python",
   "name": "python",
   "nbconvert_exporter": "python",
   "pygments_lexer": "ipython3",
   "version": "3.10.9"
  },
  "orig_nbformat": 4,
  "vscode": {
   "interpreter": {
    "hash": "8c27a8da7f8b326f9c4ebc71c163e810468cb2639fe9baa68fe8ba9dae3bbca9"
   }
  }
 },
 "nbformat": 4,
 "nbformat_minor": 2
}
