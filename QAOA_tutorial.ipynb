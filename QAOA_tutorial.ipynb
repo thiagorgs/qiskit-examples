{
 "cells": [
  {
   "cell_type": "code",
   "execution_count": 214,
   "metadata": {},
   "outputs": [],
   "source": [
    "import numpy as np\n",
    "import networkx as nx\n",
    "import matplotlib.pyplot as plt\n",
    "from collections import defaultdict\n",
    "from operator import itemgetter\n",
    "from scipy.optimize import minimize\n",
    "from qiskit import QuantumCircuit, QuantumRegister, ClassicalRegister, execute, Aer,assemble\n",
    "from qiskit.quantum_info import Statevector"
   ]
  },
  {
   "cell_type": "code",
   "execution_count": 215,
   "metadata": {},
   "outputs": [],
   "source": [
    "def maxcut_obj(solution, graph):\n",
    "    \"\"\"Given a bit string as a solution, this function returns\n",
    "    the number of edges shared between the two partitions\n",
    "    of the graph.\n",
    "    Args:\n",
    "        solution: (str) solution bit string\n",
    "        graph: networkx graph\n",
    "    Returns:\n",
    "        obj: (float) Objective\n",
    "    \"\"\"\n",
    "    obj = 0\n",
    "    for i, j in graph.edges():\n",
    "        if solution[i] != solution[j]:\n",
    "            obj -= 1\n",
    "    return obj\n",
    "\n",
    "\n",
    "def compute_expectation(counts, graph):\n",
    "    \"\"\"Computes expectation value based on measurement results \n",
    "    Args:\n",
    "        counts: (dict) key as bit string, val as count\n",
    "        graph: networkx graph\n",
    "    Returns:\n",
    "        avg: float\n",
    "             expectation value\n",
    "    \"\"\"\n",
    "    avg = 0\n",
    "    sum_count = 0\n",
    "    for bit_string, count in counts.items():\n",
    "        obj = maxcut_obj(bit_string, graph)\n",
    "        avg += obj * count\n",
    "        sum_count += count\n",
    "    return avg/sum_count\n",
    "\n",
    "\n",
    "# We will also bring the different circuit components that\n",
    "# build the qaoa circuit under a single function\n",
    "def create_qaoa_circ(graph, theta):\n",
    "    \"\"\"Creates a parametrized qaoa circuit\n",
    "    Args:\n",
    "        graph: networkx graph\n",
    "        theta: (list) unitary parameters\n",
    "    Returns:\n",
    "        (QuantumCircuit) qiskit circuit\n",
    "    \"\"\"\n",
    "    nqubits = len(graph.nodes())\n",
    "    n_layers = len(theta)//2  # number of alternating unitaries\n",
    "    beta = theta[:n_layers]\n",
    "    gamma = theta[n_layers:]\n",
    "\n",
    "    qc = QuantumCircuit(nqubits)\n",
    "\n",
    "    # initial_state\n",
    "    qc.h(range(nqubits))\n",
    "\n",
    "    for layer_index in range(n_layers):\n",
    "        qc.barrier()\n",
    "        # problem unitary\n",
    "        for pair in list(graph.edges()):\n",
    "            qc.rzz(2 * gamma[layer_index], pair[0], pair[1])\n",
    "        # mixer unitary\n",
    "        for qubit in range(nqubits):\n",
    "            qc.rx(2 * beta[layer_index], qubit) \n",
    "        qc.measure_all()\n",
    "            #no measurement at the end for the state_vector simulator\n",
    "    return qc\n",
    "\n",
    "\n",
    "# Finally we write a function that executes the circuit\n",
    "# on the chosen backend\n",
    "def get_expectation(graph, shots=512):\n",
    "    \"\"\"Runs parametrized circuit\n",
    "    Args:\n",
    "        graph: networkx graph\n",
    "    Returns: function\n",
    "    \"\"\"\n",
    "    backend = Aer.get_backend('qasm_simulator')\n",
    "    backend.shots = shots\n",
    "\n",
    "    def execute_circ(theta):\n",
    "        qc = create_qaoa_circ(graph, theta)\n",
    "        counts = backend.run(qc, seed_simulator=10,\n",
    "                             nshots=512).result().get_counts()\n",
    "        return compute_expectation(invert_counts(counts), graph)\n",
    "\n",
    "    return execute_circ"
   ]
  },
  {
   "cell_type": "code",
   "execution_count": 216,
   "metadata": {},
   "outputs": [],
   "source": [
    "def state_num2str(basis_state_as_num, nqubits):\n",
    "    return '{0:b}'.format(basis_state_as_num).zfill(nqubits)\n",
    "\n",
    "def state_str2num(basis_state_as_str):\n",
    "    return int(basis_state_as_str, 2)\n",
    "\n",
    "def state_reverse(basis_state_as_num, nqubits):\n",
    "    basis_state_as_str = state_num2str(basis_state_as_num, nqubits)\n",
    "    new_str = basis_state_as_str[::-1]\n",
    "    return state_str2num(new_str)\n",
    "\n",
    "def get_adjusted_state(state):\n",
    "    nqubits = np.log2(state.shape[0])\n",
    "    if nqubits % 1:\n",
    "        raise ValueError(\"Input vector is not a valid statevector for qubits.\")\n",
    "    nqubits = int(nqubits)\n",
    "\n",
    "    adjusted_state = np.zeros(2**nqubits, dtype=complex)\n",
    "    for basis_state in range(2**nqubits):\n",
    "         adjusted_state[state_reverse(basis_state, nqubits)] = state[basis_state]\n",
    "    return adjusted_state\n",
    "\n",
    "def invert_counts(counts):\n",
    "    return {k[::-1]:v for k, v in counts.items()}"
   ]
  },
  {
   "cell_type": "code",
   "execution_count": 217,
   "metadata": {},
   "outputs": [],
   "source": [
    "def state_to_ampl_counts(vec, eps=1e-15):\n",
    "    \"\"\"Converts a statevector to a dictionary\n",
    "    of bitstrings and corresponding amplitudes\n",
    "    \"\"\"\n",
    "    qubit_dims = np.log2(vec.shape[0])\n",
    "    if qubit_dims % 1:\n",
    "        raise ValueError(\"Input vector is not a valid statevector for qubits.\")\n",
    "    qubit_dims = int(qubit_dims)\n",
    "    counts = {}\n",
    "    str_format = '0{}b'.format(qubit_dims)\n",
    "    for kk in range(vec.shape[0]):\n",
    "        val = vec[kk]\n",
    "        if val.real**2+val.imag**2 > eps:\n",
    "            counts[format(kk, str_format)] = val\n",
    "    return counts"
   ]
  },
  {
   "cell_type": "code",
   "execution_count": 218,
   "metadata": {},
   "outputs": [
    {
     "data": {
      "image/png": "[encoded data removed]",
      "text/plain": [
       "<Figure size 432x288 with 1 Axes>"
      ]
     },
     "metadata": {},
     "output_type": "display_data"
    }
   ],
   "source": [
    "G = nx.Graph()\n",
    "G.add_nodes_from([0, 1, 2, 3, 4])\n",
    "G.add_edges_from([[0,3],[0,4],[1,3],[1,4],[2,3],[2,4]])\n",
    "nx.draw(G,with_labels = True, pos=nx.bipartite_layout(G, [0,1,2]))"
   ]
  },
  {
   "cell_type": "code",
   "execution_count": 219,
   "metadata": {},
   "outputs": [
    {
     "data": {
      "image/png": "[encoded data removed]",
      "text/plain": [
       "<Figure size 1621.88x806.68 with 1 Axes>"
      ]
     },
     "execution_count": 219,
     "metadata": {},
     "output_type": "execute_result"
    }
   ],
   "source": [
    "qc = create_qaoa_circ(G,[np.pi/3,np.pi/2])\n",
    "qc.decompose().draw('mpl')"
   ]
  },
  {
   "cell_type": "code",
   "execution_count": 220,
   "metadata": {},
   "outputs": [
    {
     "data": {
      "text/plain": [
       "-6.0"
      ]
     },
     "execution_count": 220,
     "metadata": {},
     "output_type": "execute_result"
    }
   ],
   "source": [
    "compute_expectation(invert_counts(result.get_counts()), G)"
   ]
  },
  {
   "cell_type": "code",
   "execution_count": 221,
   "metadata": {},
   "outputs": [
    {
     "name": "stdout",
     "output_type": "stream",
     "text": [
      "{'11110': 35, '10010': 29, '10100': 27, '10001': 29, '01011': 34, '00100': 32, '00011': 37, '01000': 32, '10011': 28, '00000': 29, '10101': 41, '00111': 40, '01001': 38, '01100': 30, '10000': 34, '11001': 31, '01110': 31, '11100': 34, '11000': 31, '00010': 22, '00110': 35, '11111': 40, '11011': 30, '00001': 21, '10110': 34, '11101': 34, '00101': 32, '01010': 39, '10111': 36, '11010': 26, '01111': 30, '01101': 23}\n"
     ]
    }
   ],
   "source": [
    "backend = Aer.get_backend('qasm_simulator')\n",
    "job = execute(qc, backend)\n",
    "result = job.result()\n",
    "print(invert_counts(result.get_counts()))"
   ]
  },
  {
   "cell_type": "code",
   "execution_count": 222,
   "metadata": {},
   "outputs": [
    {
     "name": "stdout",
     "output_type": "stream",
     "text": [
      "\n"
     ]
    },
    {
     "data": {
      "text/plain": [
       "     fun: -4.3623046875\n",
       "   maxcv: 0.0\n",
       " message: 'Optimization terminated successfully.'\n",
       "    nfev: 99\n",
       "  status: 1\n",
       " success: True\n",
       "       x: array([1.95195983, 2.25889703, 0.78616163, 2.16935638, 0.40124081,\n",
       "       2.816261  , 6.12213505, 2.22215054, 3.81158214, 6.11103041])"
      ]
     },
     "execution_count": 222,
     "metadata": {},
     "output_type": "execute_result"
    },
    {
     "name": "stdout",
     "output_type": "stream",
     "text": [
      "   Normal return from subroutine COBYLA\n",
      "\n",
      "   NFVALS =   99   F =-4.362305E+00    MAXCV = 0.000000E+00\n",
      "   X = 1.951960E+00   2.258897E+00   7.861616E-01   2.169356E+00   4.012408E-01\n",
      "       2.816261E+00   6.122135E+00   2.222151E+00   3.811582E+00   6.111030E+00\n"
     ]
    }
   ],
   "source": [
    "p = 5 # Number of layers\n",
    "expectation = get_expectation(G) #Cost function C(teta) of the entire circuit (training)\n",
    "in_parameter_list = np.array([0.81069872, 2.2067517 , 0.83830696, 2.15579759, 0.37060699,\n",
    "       2.42068091, 6.1575306 , 2.2453419 , 3.85060091, 6.137845  ]) #We start setting some parameters\n",
    "res = minimize(expectation,\n",
    "               in_parameter_list,\n",
    "               method='COBYLA',options={'maxiter':2500, 'disp': True})\n",
    "res"
   ]
  },
  {
   "cell_type": "code",
   "execution_count": 223,
   "metadata": {},
   "outputs": [
    {
     "name": "stderr",
     "output_type": "stream",
     "text": [
      "/tmp/ipykernel_6502/2539615542.py:13: DeprecationWarning: The return type of saved statevectors has been changed from a `numpy.ndarray` to a `qiskit.quantum_info.Statevector` as of qiskit-aer 0.10. Accessing numpy array attributes is deprecated and will result in an error in a future release. To continue using saved result objects as arrays you can explicitly cast them using  `np.asarray(object)`.\n",
      "  nqubits = np.log2(state.shape[0])\n"
     ]
    },
    {
     "data": {
      "text/latex": [
       "$$(-0.285444445288 + 0.958395257007 i) |11001\\rangle$$"
      ],
      "text/plain": [
       "<IPython.core.display.Latex object>"
      ]
     },
     "execution_count": 223,
     "metadata": {},
     "output_type": "execute_result"
    }
   ],
   "source": [
    "backend = Aer.get_backend('statevector_simulator')\n",
    "qc = create_qaoa_circ(G, res.x)\n",
    "result = execute(qc, backend).result()\n",
    "sv = get_adjusted_state(result.get_statevector())\n",
    "state_to_ampl_counts(sv)\n",
    "Statevector(sv).draw('latex')"
   ]
  },
  {
   "cell_type": "code",
   "execution_count": 224,
   "metadata": {},
   "outputs": [
    {
     "name": "stderr",
     "output_type": "stream",
     "text": [
      "/tmp/ipykernel_6502/3501984869.py:5: DeprecationWarning: The return type of saved statevectors has been changed from a `numpy.ndarray` to a `qiskit.quantum_info.Statevector` as of qiskit-aer 0.10. Accessing numpy array attributes is deprecated and will result in an error in a future release. To continue using saved result objects as arrays you can explicitly cast them using  `np.asarray(object)`.\n",
      "  qubit_dims = np.log2(vec.shape[0])\n",
      "/tmp/ipykernel_6502/3501984869.py:11: DeprecationWarning: The return type of saved statevectors has been changed from a `numpy.ndarray` to a `qiskit.quantum_info.Statevector` as of qiskit-aer 0.10. Accessing numpy array attributes is deprecated and will result in an error in a future release. To continue using saved result objects as arrays you can explicitly cast them using  `np.asarray(object)`.\n",
      "  for kk in range(vec.shape[0]):\n"
     ]
    },
    {
     "data": {
      "text/plain": [
       "{'10001': (-0.12471678348268185+0.9921923825134589j)}"
      ]
     },
     "execution_count": 224,
     "metadata": {},
     "output_type": "execute_result"
    }
   ],
   "source": [
    "backend = Aer.get_backend('statevector_simulator')\n",
    "qc = create_qaoa_circ(G, res.x)\n",
    "result = execute(qc, backend).result()\n",
    "sv = result.get_statevector()\n",
    "state_to_ampl_counts(sv)"
   ]
  },
  {
   "cell_type": "code",
   "execution_count": 225,
   "metadata": {},
   "outputs": [
    {
     "data": {
      "text/plain": [
       "[1.0, 1.0]"
      ]
     },
     "execution_count": 225,
     "metadata": {},
     "output_type": "execute_result"
    }
   ],
   "source": [
    "[1.0,1.0]"
   ]
  },
  {
   "cell_type": "code",
   "execution_count": 226,
   "metadata": {},
   "outputs": [
    {
     "name": "stdout",
     "output_type": "stream",
     "text": [
      "Statevector([1.+0.j, 1.+0.j],\n",
      "            dims=(2,))\n"
     ]
    }
   ],
   "source": [
    "Statevector([1.0,1.0])"
   ]
  },
  {
   "cell_type": "code",
   "execution_count": 227,
   "metadata": {},
   "outputs": [
    {
     "name": "stdout",
     "output_type": "stream",
     "text": [
      "Statevector([0.+0.j, 1.+0.j],\n",
      "            dims=(2,))\n"
     ]
    }
   ],
   "source": [
    "Statevector([0.+0.j, 1.+0.j],\n",
    "            dims=(2,))"
   ]
  }
 ],
 "metadata": {
  "kernelspec": {
   "display_name": "quanta",
   "language": "python",
   "name": "python3"
  },
  "language_info": {
   "codemirror_mode": {
    "name": "ipython",
    "version": 3
   },
   "file_extension": ".py",
   "mimetype": "text/x-python",
   "name": "python",
   "nbconvert_exporter": "python",
   "pygments_lexer": "ipython3",
   "version": "3.10.4"
  },
  "orig_nbformat": 4,
  "vscode": {
   "interpreter": {
    "hash": "8c27a8da7f8b326f9c4ebc71c163e810468cb2639fe9baa68fe8ba9dae3bbca9"
   }
  }
 },
 "nbformat": 4,
 "nbformat_minor": 2
}
