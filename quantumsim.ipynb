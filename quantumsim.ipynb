{
 "cells": [
  {
   "cell_type": "code",
   "execution_count": 1,
   "metadata": {},
   "outputs": [
    {
     "name": "stdout",
     "output_type": "stream",
     "text": [
      "Running on <IBMBackend('ibm_brisbane')>\n"
     ]
    }
   ],
   "source": [
    "# 1. Create a simple quantum program called a 'quantum circuit'.\n",
    "from qiskit import QuantumCircuit\n",
    "qc = QuantumCircuit(3)\n",
    "qc.h(0)\n",
    "qc.cx(0, [1, 2])\n",
    "qc.measure_all()\n",
    "\n",
    "# 2. Ask IBM Quantum for its least busy device that isn't a simulator.\n",
    "# If you're running this locally, load your IBM Quantum API token using\n",
    "#     service = QiskitRuntimeService(channel=\"ibm_quantum\", token=\"ABC\")\n",
    "from qiskit_ibm_runtime import QiskitRuntimeService, Session, Sampler\n",
    "service = QiskitRuntimeService(channel=\"ibm_quantum\", token='381b537da0bd7388dfaaa48a082b615820f962d349cb291790ef884fffe27c1ef4efc4dada74b170c85fc4026b78bbd03098aa5be7dd1c6022731b0b497b6e8f')\n",
    "backend = service.least_busy(simulator=False, operational=True)\n",
    "print(f'Running on {backend}')\n",
    "\n",
    "# 3. Run your circuit on that device\n",
    "with Session(backend=backend):\n",
    "    sampler = Sampler()\n",
    "    result = sampler.run(qc).result()\n",
    "\n",
    "# 4. Plot the results\n",
    "from qiskit.visualization import plot_histogram\n",
    "distribution = result.quasi_dists[0].binary_probabilities()\n",
    "plot_histogram(distribution)"
   ]
  }
 ],
 "metadata": {
  "kernelspec": {
   "display_name": "qiskit",
   "language": "python",
   "name": "python3"
  },
  "language_info": {
   "codemirror_mode": {
    "name": "ipython",
    "version": 3
   },
   "file_extension": ".py",
   "mimetype": "text/x-python",
   "name": "python",
   "nbconvert_exporter": "python",
   "pygments_lexer": "ipython3",
   "version": "3.11.4"
  },
  "orig_nbformat": 4
 },
 "nbformat": 4,
 "nbformat_minor": 2
}
